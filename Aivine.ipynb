{
  "cells": [
    {
      "cell_type": "code",
      "execution_count": 12,
      "id": "19c67364",
      "metadata": {
        "colab": {
          "base_uri": "https://localhost:8080/"
        },
        "id": "19c67364",
        "outputId": "0e6796c6-41d9-4faa-8770-959ed9ec32f1"
      },
      "outputs": [],
      "source": [
        "import os\n",
        "import random\n",
        "import shutil\n",
        "import numpy as np\n",
        "import matplotlib.pyplot as plt\n",
        "from sklearn.model_selection import train_test_split\n",
        "import tensorflow as tf\n",
        "from tensorflow.keras import layers, models\n",
        "from tensorflow.keras.utils import to_categorical\n",
        "from tensorflow.keras.preprocessing.image import ImageDataGenerator"
      ]
    },
    {
      "cell_type": "code",
      "execution_count": null,
      "id": "9e84cf4d",
      "metadata": {},
      "outputs": [],
      "source": [
        "PROJECT_DIR = os.getcwd()\n",
        "RAW_TRAIN_DIR = os.path.join(PROJECT_DIR, \"raw_data\", \"archive\", \"dataset_flat_structure\", \"train\")\n",
        "SMALL_DIR = os.path.join(PROJECT_DIR, \"small_dataset\")"
      ]
    },
    {
      "cell_type": "code",
      "execution_count": null,
      "id": "XYW2zZgvNLb8",
      "metadata": {
        "colab": {
          "base_uri": "https://localhost:8080/"
        },
        "id": "XYW2zZgvNLb8",
        "outputId": "bef227fa-4eaa-4fa4-dc05-db03270646be"
      },
      "outputs": [],
      "source": [
        "NUM_IMAGES_PER_CLASS = 100\n",
        "\n",
        "os.makedirs(SMALL_DIR, exist_ok=True)"
      ]
    },
    {
      "cell_type": "code",
      "execution_count": null,
      "id": "dptxC18pNUN4",
      "metadata": {
        "colab": {
          "base_uri": "https://localhost:8080/"
        },
        "id": "dptxC18pNUN4",
        "outputId": "fb90fa49-b97c-41e1-c7fb-8d66f8d3a8b2"
      },
      "outputs": [
        {
          "name": "stdout",
          "output_type": "stream",
          "text": [
            "Small data was created  /home/faisal/code/MrZeroX1/Aivine/small_dataset\n"
          ]
        }
      ],
      "source": [
        "for cls in os.listdir(RAW_TRAIN_DIR):\n",
        "    src_class_dir = os.path.join(RAW_TRAIN_DIR, cls)\n",
        "    dst_class_dir = os.path.join(SMALL_DIR, cls)\n",
        "    os.makedirs(dst_class_dir, exist_ok=True)\n",
        "\n",
        "    imgs = [f for f in os.listdir(src_class_dir) if f.lower().endswith((\".jpg\", \".png\", \".jpeg\"))]\n",
        "    if len(imgs) == 0:\n",
        "        print(f\" {cls}  No images\")\n",
        "        continue\n",
        "\n",
        "    selected_imgs = random.sample(imgs, min(NUM_IMAGES_PER_CLASS, len(imgs)))\n",
        "    for img in selected_imgs:\n",
        "        shutil.copy(os.path.join(src_class_dir, img), os.path.join(dst_class_dir, img))\n",
        "\n",
        "print(\"Small data was created \", SMALL_DIR)\n"
      ]
    },
    {
      "cell_type": "code",
      "execution_count": 7,
      "id": "UXNbDB08NvW5",
      "metadata": {
        "id": "UXNbDB08NvW5"
      },
      "outputs": [
        {
          "name": "stdout",
          "output_type": "stream",
          "text": [
            "Found 2281 files belonging to 23 classes.\n"
          ]
        }
      ],
      "source": [
        "train_ds = tf.keras.preprocessing.image_dataset_from_directory(\n",
        "    SMALL_DIR,\n",
        "    image_size=(224, 224),\n",
        "    batch_size=8,\n",
        "    label_mode='int'\n",
        ")"
      ]
    },
    {
      "cell_type": "code",
      "execution_count": 8,
      "id": "xOnsTl70N9oC",
      "metadata": {
        "colab": {
          "base_uri": "https://localhost:8080/"
        },
        "id": "xOnsTl70N9oC",
        "outputId": "79868d86-d55d-4945-c53a-5c36f349f2bc"
      },
      "outputs": [
        {
          "name": "stdout",
          "output_type": "stream",
          "text": [
            "Classes: ['Chrysanthemum_Bacterial_Leaf_Spot', 'Chrysanthemum_Healthy', 'Chrysanthemum_Septoria_Leaf_Spot', 'Hibiscus_Blight', 'Hibiscus_Healthy', 'Hibiscus_Necrosis', 'Hibiscus_Scorch', 'Money Plant_Money_Plant_Bacterial_Wilt', 'Money Plant_Money_Plant_Chlorosis', 'Money Plant_Money_Plant_Healthy', 'Money Plant_Money_Plant_Manganese_Toxicity', 'Rose_Black_Spot', 'Rose_Downy_Mildew', 'Rose_Healthy', 'Rose_Mosaic_Virus', 'Rose_Powdery_Mildew', 'Rose_Rust', 'Rose_Yellow_Mosaic_Virus', 'Turmeric_Aphid_Infestation', 'Turmeric_Blotch', 'Turmeric_Healthy', 'Turmeric_Leaf_Necrosis', 'Turmeric_Leaf_Spot']\n"
          ]
        }
      ],
      "source": [
        "class_names = train_ds.class_names\n",
        "num_classes = len(class_names)\n",
        "print(\"Classes:\", class_names)"
      ]
    },
    {
      "cell_type": "code",
      "execution_count": null,
      "id": "IO72V1CwR0Cx",
      "metadata": {
        "id": "IO72V1CwR0Cx"
      },
      "outputs": [],
      "source": [
        "def preprocess(ds):\n",
        "    images = []\n",
        "    labels = []\n",
        "    for batch_images, batch_labels in ds:\n",
        "        batch_images = batch_images / 255.0\n",
        "        images.append(batch_images.numpy())\n",
        "        labels.append(batch_labels.numpy())\n",
        "    X = np.concatenate(images, axis=0)\n",
        "    y = np.concatenate(labels, axis=0)\n",
        "    y = to_categorical(y, num_classes=num_classes)\n",
        "    return X, y\n",
        "\n",
        "X, y = preprocess(train_ds)\n"
      ]
    },
    {
      "cell_type": "code",
      "execution_count": 10,
      "id": "ne74hp0PSZUu",
      "metadata": {
        "id": "ne74hp0PSZUu"
      },
      "outputs": [
        {
          "name": "stdout",
          "output_type": "stream",
          "text": [
            "Data ready: (1824, 224, 224, 3) (457, 224, 224, 3)\n"
          ]
        }
      ],
      "source": [
        "X_train, X_test, y_train, y_test = train_test_split(X, y, test_size=0.2, random_state=42)\n",
        "print(\"Data ready:\", X_train.shape, X_test.shape)"
      ]
    },
    {
      "cell_type": "code",
      "execution_count": null,
      "id": "8WciEnp3RSyJ",
      "metadata": {
        "id": "8WciEnp3RSyJ"
      },
      "outputs": [],
      "source": [
        "train_datagen = ImageDataGenerator(\n",
        "    rotation_range=20,\n",
        "    width_shift_range=0.15,\n",
        "    height_shift_range=0.15,\n",
        "    shear_range=0.15,\n",
        "    zoom_range=0.2,\n",
        "    horizontal_flip=True,\n",
        "    fill_mode=\"nearest\"\n",
        ")\n",
        "\n",
        "val_datagen = ImageDataGenerator()\n",
        "\n",
        "train_generator = train_datagen.flow(X_train, y_train, batch_size=32, shuffle=True)\n",
        "val_generator = val_datagen.flow(X_test, y_test, batch_size=32)"
      ]
    },
    {
      "cell_type": "code",
      "execution_count": 14,
      "id": "lEW_1vuVYKOF",
      "metadata": {
        "id": "lEW_1vuVYKOF"
      },
      "outputs": [],
      "source": [
        "def initialize_model(input_shape=(224, 224, 3), num_classes=num_classes):\n",
        "    model = models.Sequential([\n",
        "        layers.Input(shape=input_shape),\n",
        "        layers.Conv2D(16, (3, 3), activation='relu', padding='same'),\n",
        "        layers.MaxPooling2D((2, 2)),\n",
        "        layers.Dropout(0.2),\n",
        "\n",
        "        layers.Conv2D(32, (3, 3), activation='relu', padding='same'),\n",
        "        layers.MaxPooling2D((2, 2)),\n",
        "        layers.Dropout(0.2),\n",
        "\n",
        "        layers.Conv2D(64, (3, 3), activation='relu', padding='same'),\n",
        "        layers.MaxPooling2D((2, 2)),\n",
        "        layers.Dropout(0.2),\n",
        "\n",
        "        layers.Flatten(),\n",
        "        layers.Dense(128, activation='relu'),\n",
        "        layers.Dropout(0.3),\n",
        "        layers.Dense(num_classes, activation='softmax')\n",
        "    ])\n",
        "    return model"
      ]
    },
    {
      "cell_type": "code",
      "execution_count": 15,
      "id": "vHDzgsJNRprx",
      "metadata": {
        "colab": {
          "base_uri": "https://localhost:8080/"
        },
        "id": "vHDzgsJNRprx",
        "outputId": "396704dd-7577-44f1-d527-477fb0f4c398"
      },
      "outputs": [
        {
          "name": "stdout",
          "output_type": "stream",
          "text": [
            "Model: \"sequential\"\n",
            "_________________________________________________________________\n",
            " Layer (type)                Output Shape              Param #   \n",
            "=================================================================\n",
            " conv2d (Conv2D)             (None, 224, 224, 16)      448       \n",
            "                                                                 \n",
            " max_pooling2d (MaxPooling2  (None, 112, 112, 16)      0         \n",
            " D)                                                              \n",
            "                                                                 \n",
            " dropout (Dropout)           (None, 112, 112, 16)      0         \n",
            "                                                                 \n",
            " conv2d_1 (Conv2D)           (None, 112, 112, 32)      4640      \n",
            "                                                                 \n",
            " max_pooling2d_1 (MaxPoolin  (None, 56, 56, 32)        0         \n",
            " g2D)                                                            \n",
            "                                                                 \n",
            " dropout_1 (Dropout)         (None, 56, 56, 32)        0         \n",
            "                                                                 \n",
            " conv2d_2 (Conv2D)           (None, 56, 56, 64)        18496     \n",
            "                                                                 \n",
            " max_pooling2d_2 (MaxPoolin  (None, 28, 28, 64)        0         \n",
            " g2D)                                                            \n",
            "                                                                 \n",
            " dropout_2 (Dropout)         (None, 28, 28, 64)        0         \n",
            "                                                                 \n",
            " flatten (Flatten)           (None, 50176)             0         \n",
            "                                                                 \n",
            " dense (Dense)               (None, 128)               6422656   \n",
            "                                                                 \n",
            " dropout_3 (Dropout)         (None, 128)               0         \n",
            "                                                                 \n",
            " dense_1 (Dense)             (None, 23)                2967      \n",
            "                                                                 \n",
            "=================================================================\n",
            "Total params: 6449207 (24.60 MB)\n",
            "Trainable params: 6449207 (24.60 MB)\n",
            "Non-trainable params: 0 (0.00 Byte)\n",
            "_________________________________________________________________\n"
          ]
        }
      ],
      "source": [
        "model = initialize_model()\n",
        "model.summary()"
      ]
    },
    {
      "cell_type": "code",
      "execution_count": 16,
      "id": "4M6xMpo5b2TB",
      "metadata": {
        "id": "4M6xMpo5b2TB"
      },
      "outputs": [],
      "source": [
        "model.compile(\n",
        "    loss='categorical_crossentropy',\n",
        "    optimizer='adam',\n",
        "    metrics=['accuracy']\n",
        ")\n"
      ]
    },
    {
      "cell_type": "code",
      "execution_count": 17,
      "id": "imwM8rpASoSG",
      "metadata": {
        "colab": {
          "base_uri": "https://localhost:8080/"
        },
        "id": "imwM8rpASoSG",
        "outputId": "f026d236-69e5-414c-9586-e95f4b80cad6"
      },
      "outputs": [
        {
          "name": "stdout",
          "output_type": "stream",
          "text": [
            "Epoch 1/50\n",
            "57/57 [==============================] - 19s 320ms/step - loss: 3.2102 - accuracy: 0.0565 - val_loss: 3.0576 - val_accuracy: 0.1510\n",
            "Epoch 2/50\n",
            "57/57 [==============================] - 19s 329ms/step - loss: 2.8434 - accuracy: 0.1464 - val_loss: 2.6316 - val_accuracy: 0.2582\n",
            "Epoch 3/50\n",
            "57/57 [==============================] - 21s 371ms/step - loss: 2.5376 - accuracy: 0.2308 - val_loss: 2.3623 - val_accuracy: 0.3042\n",
            "Epoch 4/50\n",
            "57/57 [==============================] - 19s 334ms/step - loss: 2.2724 - accuracy: 0.2988 - val_loss: 1.9640 - val_accuracy: 0.4158\n",
            "Epoch 5/50\n",
            "57/57 [==============================] - 18s 321ms/step - loss: 1.9673 - accuracy: 0.3706 - val_loss: 1.8978 - val_accuracy: 0.3786\n",
            "Epoch 6/50\n",
            "57/57 [==============================] - 17s 296ms/step - loss: 1.8316 - accuracy: 0.4068 - val_loss: 1.8085 - val_accuracy: 0.4333\n",
            "Epoch 7/50\n",
            "57/57 [==============================] - 18s 317ms/step - loss: 1.6451 - accuracy: 0.4490 - val_loss: 1.7037 - val_accuracy: 0.4748\n",
            "Epoch 8/50\n",
            "57/57 [==============================] - 17s 288ms/step - loss: 1.5788 - accuracy: 0.4852 - val_loss: 1.3362 - val_accuracy: 0.5821\n",
            "Epoch 9/50\n",
            "57/57 [==============================] - 18s 308ms/step - loss: 1.4243 - accuracy: 0.5400 - val_loss: 1.2642 - val_accuracy: 0.5864\n",
            "Epoch 10/50\n",
            "57/57 [==============================] - 17s 293ms/step - loss: 1.3555 - accuracy: 0.5471 - val_loss: 1.3286 - val_accuracy: 0.5689\n",
            "Epoch 11/50\n",
            "57/57 [==============================] - 19s 325ms/step - loss: 1.3068 - accuracy: 0.5565 - val_loss: 1.1485 - val_accuracy: 0.6280\n",
            "Epoch 12/50\n",
            "57/57 [==============================] - 20s 346ms/step - loss: 1.2403 - accuracy: 0.5773 - val_loss: 1.1610 - val_accuracy: 0.6521\n",
            "Epoch 13/50\n",
            "57/57 [==============================] - 20s 354ms/step - loss: 1.2013 - accuracy: 0.5822 - val_loss: 1.0883 - val_accuracy: 0.6455\n",
            "Epoch 14/50\n",
            "57/57 [==============================] - 19s 328ms/step - loss: 1.1058 - accuracy: 0.6305 - val_loss: 1.0174 - val_accuracy: 0.6805\n",
            "Epoch 15/50\n",
            "57/57 [==============================] - 19s 324ms/step - loss: 1.0121 - accuracy: 0.6634 - val_loss: 1.0522 - val_accuracy: 0.6740\n",
            "Epoch 16/50\n",
            "57/57 [==============================] - 21s 362ms/step - loss: 1.0393 - accuracy: 0.6573 - val_loss: 0.8664 - val_accuracy: 0.7243\n",
            "Epoch 17/50\n",
            "57/57 [==============================] - 17s 302ms/step - loss: 1.0186 - accuracy: 0.6639 - val_loss: 0.8674 - val_accuracy: 0.7374\n",
            "Epoch 18/50\n",
            "57/57 [==============================] - 19s 328ms/step - loss: 1.0103 - accuracy: 0.6716 - val_loss: 0.8373 - val_accuracy: 0.7659\n",
            "Epoch 19/50\n",
            "57/57 [==============================] - 19s 328ms/step - loss: 0.9226 - accuracy: 0.6930 - val_loss: 1.2002 - val_accuracy: 0.6061\n",
            "Epoch 20/50\n",
            "57/57 [==============================] - 17s 296ms/step - loss: 0.9654 - accuracy: 0.6738 - val_loss: 0.8889 - val_accuracy: 0.7002\n",
            "Epoch 21/50\n",
            "57/57 [==============================] - 18s 318ms/step - loss: 0.8937 - accuracy: 0.7039 - val_loss: 0.8630 - val_accuracy: 0.7243\n",
            "Epoch 22/50\n",
            "57/57 [==============================] - 13s 217ms/step - loss: 0.8577 - accuracy: 0.7056 - val_loss: 0.7775 - val_accuracy: 0.7221\n",
            "Epoch 23/50\n",
            "57/57 [==============================] - 14s 239ms/step - loss: 0.8688 - accuracy: 0.6919 - val_loss: 1.0877 - val_accuracy: 0.6805\n",
            "Epoch 24/50\n",
            "57/57 [==============================] - 14s 242ms/step - loss: 0.8268 - accuracy: 0.7182 - val_loss: 0.7984 - val_accuracy: 0.7287\n",
            "Epoch 25/50\n",
            "57/57 [==============================] - 14s 241ms/step - loss: 0.7831 - accuracy: 0.7440 - val_loss: 0.7835 - val_accuracy: 0.7505\n",
            "Epoch 26/50\n",
            "57/57 [==============================] - 14s 247ms/step - loss: 0.8553 - accuracy: 0.7155 - val_loss: 0.9083 - val_accuracy: 0.6915\n",
            "Epoch 27/50\n",
            "57/57 [==============================] - 13s 230ms/step - loss: 0.7572 - accuracy: 0.7330 - val_loss: 0.6688 - val_accuracy: 0.8074\n",
            "Epoch 28/50\n",
            "57/57 [==============================] - ETA: 0s - loss: 0.7878 - accuracy: 0.7237"
          ]
        },
        {
          "name": "stderr",
          "output_type": "stream",
          "text": [
            "2025-10-23 10:41:27.616464: W tensorflow/core/kernels/data/prefetch_autotuner.cc:52] Prefetch autotuner tried to allocate 19270528 bytes after encountering the first element of size 19270528 bytes.This already causes the autotune ram budget to be exceeded. To stay within the ram budget, either increase the ram budget or reduce element size\n"
          ]
        },
        {
          "name": "stdout",
          "output_type": "stream",
          "text": [
            "57/57 [==============================] - 14s 242ms/step - loss: 0.7878 - accuracy: 0.7237 - val_loss: 0.7815 - val_accuracy: 0.7505\n",
            "Epoch 29/50\n",
            "57/57 [==============================] - 14s 233ms/step - loss: 0.7356 - accuracy: 0.7505 - val_loss: 0.8194 - val_accuracy: 0.7352\n",
            "Epoch 30/50\n",
            "57/57 [==============================] - 13s 229ms/step - loss: 0.8128 - accuracy: 0.7204 - val_loss: 1.1353 - val_accuracy: 0.6652\n",
            "Epoch 31/50\n",
            "57/57 [==============================] - 14s 252ms/step - loss: 0.7557 - accuracy: 0.7352 - val_loss: 0.8000 - val_accuracy: 0.7571\n",
            "Epoch 32/50\n",
            "57/57 [==============================] - ETA: 0s - loss: 0.7180 - accuracy: 0.7473Restoring model weights from the end of the best epoch: 27.\n",
            "57/57 [==============================] - 14s 236ms/step - loss: 0.7180 - accuracy: 0.7473 - val_loss: 0.7970 - val_accuracy: 0.7571\n",
            "Epoch 32: early stopping\n"
          ]
        }
      ],
      "source": [
        "from tensorflow.keras.callbacks import EarlyStopping\n",
        "es = EarlyStopping(patience=5, verbose=1, monitor=\"val_loss\", restore_best_weights=True)\n",
        "\n",
        "history = model.fit(\n",
        "    train_generator,\n",
        "    validation_data=val_generator,\n",
        "    epochs=50,\n",
        "    callbacks=[es],\n",
        "    verbose=1\n",
        ")"
      ]
    },
    {
      "cell_type": "code",
      "execution_count": 19,
      "id": "p3Phz5ZXSq3p",
      "metadata": {
        "colab": {
          "base_uri": "https://localhost:8080/"
        },
        "id": "p3Phz5ZXSq3p",
        "outputId": "55a5ca96-d6ab-4f52-b7f5-cd1f8691c0ff"
      },
      "outputs": [
        {
          "name": "stdout",
          "output_type": "stream",
          "text": [
            "\n",
            " Model Accuracy: 80.74%\n"
          ]
        }
      ],
      "source": [
        "res = model.evaluate(val_generator, verbose=0)\n",
        "print(f\"\\n Model Accuracy: {res[1]*100:.2f}%\")"
      ]
    },
    {
      "cell_type": "code",
      "execution_count": 20,
      "id": "4TxN2-eVTSxs",
      "metadata": {
        "colab": {
          "base_uri": "https://localhost:8080/"
        },
        "id": "4TxN2-eVTSxs",
        "outputId": "6b0f80fe-71fd-4d08-f6f4-18588715fd75"
      },
      "outputs": [
        {
          "data": {
            "image/png": "[encoded data removed]",
            "text/plain": [
              "<Figure size 800x400 with 1 Axes>"
            ]
          },
          "metadata": {},
          "output_type": "display_data"
        }
      ],
      "source": [
        "plt.figure(figsize=(8,4))\n",
        "plt.plot(history.history[\"accuracy\"], label=\"Train Accuracy\")\n",
        "plt.plot(history.history[\"val_accuracy\"], label=\"Validation Accuracy\")\n",
        "plt.title(\"Accuracy Curve\")\n",
        "plt.xlabel(\"Epoch\")\n",
        "plt.ylabel(\"Accuracy\")\n",
        "plt.legend()\n",
        "plt.show()"
      ]
    },
    {
      "cell_type": "code",
      "execution_count": null,
      "id": "xOPQROEwbOff",
      "metadata": {
        "id": "xOPQROEwbOff"
      },
      "outputs": [],
      "source": []
    }
  ],
  "metadata": {
    "accelerator": "GPU",
    "colab": {
      "gpuType": "T4",
      "provenance": []
    },
    "kernelspec": {
      "display_name": "aivine_env",
      "language": "python",
      "name": "python3"
    },
    "language_info": {
      "codemirror_mode": {
        "name": "ipython",
        "version": 3
      },
      "file_extension": ".py",
      "mimetype": "text/x-python",
      "name": "python",
      "nbconvert_exporter": "python",
      "pygments_lexer": "ipython3",
      "version": "3.10.14"
    }
  },
  "nbformat": 4,
  "nbformat_minor": 5
}
