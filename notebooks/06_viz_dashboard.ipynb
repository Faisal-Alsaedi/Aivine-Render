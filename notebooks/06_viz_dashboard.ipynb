{
 "cells": [
  {
   "cell_type": "code",
   "execution_count": null,
   "id": "512af2f8",
   "metadata": {},
   "outputs": [],
   "source": [
    "import json, numpy as np, pandas as pd, matplotlib.pyplot as plt, seaborn as sns\n",
    "from src.config import METRICS_DIR\n",
    "with open(METRICS_DIR/\"history_phase1.json\") as f: h1 = json.load(f)\n",
    "with open(METRICS_DIR/\"history_phase2.json\") as f: h2 = json.load(f)\n",
    "report = pd.read_csv(METRICS_DIR/\"classification_report.csv\", index_col=0)\n",
    "cm = np.load(METRICS_DIR/\"confusion_matrix.npy\")\n",
    "best10 = pd.read_csv(METRICS_DIR/\"top10_best_classes.csv\")\n",
    "worst10 = pd.read_csv(METRICS_DIR/\"top10_worst_classes.csv\")"
   ]
  },
  {
   "cell_type": "code",
   "execution_count": null,
   "id": "afc02fd2",
   "metadata": {},
   "outputs": [],
   "source": [
    "def plot_hist(hist, title):\n",
    "    for k in [\"loss\",\"val_loss\",\"accuracy\",\"val_accuracy\",\"top3_accuracy\",\"val_top3_accuracy\"]:\n",
    "        if k in hist:\n",
    "            plt.figure(); plt.plot(hist[k]); plt.title(f\"{title} - {k}\"); plt.xlabel(\"epoch\"); plt.ylabel(k); plt.show()\n",
    "plot_hist(h1, \"Phase 1\")\n",
    "plot_hist(h2, \"Phase 2\")"
   ]
  },
  {
   "cell_type": "code",
   "execution_count": null,
   "id": "dd2f3302",
   "metadata": {},
   "outputs": [],
   "source": [
    "plt.figure(figsize=(10,8))\n",
    "sns.heatmap(cm, cmap=\"Blues\", square=True, cbar=True)\n",
    "plt.title(\"Confusion Matrix\"); plt.xlabel(\"Predicted\"); plt.ylabel(\"True\"); plt.show()"
   ]
  },
  {
   "cell_type": "code",
   "execution_count": null,
   "id": "e3755adb",
   "metadata": {},
   "outputs": [],
   "source": [
    "per_class = report.iloc[:-3].copy()\n",
    "per_class[[\"precision\",\"recall\",\"f1-score\"]].sort_values(\"recall\", ascending=False).plot(kind=\"bar\", figsize=(12,5))\n",
    "plt.title(\"Per-class metrics\"); plt.tight_layout(); plt.show()"
   ]
  },
  {
   "cell_type": "code",
   "execution_count": null,
   "id": "7f36f0a7",
   "metadata": {},
   "outputs": [],
   "source": [
    "fig, ax = plt.subplots(1,2, figsize=(12,5))\n",
    "best10.plot.barh(x=\"class_name\", y=\"recall\", ax=ax[0], title=\"Top-10 Recall\")\n",
    "worst10.plot.barh(x=\"class_name\", y=\"recall\", ax=ax[1], title=\"Worst-10 Recall\")\n",
    "plt.tight_layout(); plt.show()"
   ]
  }
 ],
 "metadata": {
  "kernelspec": {
   "display_name": "aivine_env (3.10.11)",
   "language": "python",
   "name": "python3"
  },
  "language_info": {
   "name": "python",
   "version": "3.10.11"
  }
 },
 "nbformat": 4,
 "nbformat_minor": 5
}
