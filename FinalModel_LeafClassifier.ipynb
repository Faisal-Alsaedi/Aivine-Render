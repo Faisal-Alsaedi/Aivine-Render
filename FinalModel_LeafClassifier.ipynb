{
 "cells": [
  {
   "cell_type": "code",
   "execution_count": 1,
   "id": "45695f20",
   "metadata": {},
   "outputs": [
    {
     "name": "stderr",
     "output_type": "stream",
     "text": [
      "2025-10-26 17:03:45.454367: I tensorflow/core/util/port.cc:113] oneDNN custom operations are on. You may see slightly different numerical results due to floating-point round-off errors from different computation orders. To turn them off, set the environment variable `TF_ENABLE_ONEDNN_OPTS=0`.\n",
      "2025-10-26 17:03:45.455898: I external/local_tsl/tsl/cuda/cudart_stub.cc:31] Could not find cuda drivers on your machine, GPU will not be used.\n",
      "2025-10-26 17:03:45.481814: E external/local_xla/xla/stream_executor/cuda/cuda_dnn.cc:9261] Unable to register cuDNN factory: Attempting to register factory for plugin cuDNN when one has already been registered\n",
      "2025-10-26 17:03:45.481853: E external/local_xla/xla/stream_executor/cuda/cuda_fft.cc:607] Unable to register cuFFT factory: Attempting to register factory for plugin cuFFT when one has already been registered\n",
      "2025-10-26 17:03:45.482915: E external/local_xla/xla/stream_executor/cuda/cuda_blas.cc:1515] Unable to register cuBLAS factory: Attempting to register factory for plugin cuBLAS when one has already been registered\n",
      "2025-10-26 17:03:45.488413: I external/local_tsl/tsl/cuda/cudart_stub.cc:31] Could not find cuda drivers on your machine, GPU will not be used.\n",
      "2025-10-26 17:03:45.489307: I tensorflow/core/platform/cpu_feature_guard.cc:182] This TensorFlow binary is optimized to use available CPU instructions in performance-critical operations.\n",
      "To enable the following instructions: AVX2 AVX_VNNI FMA, in other operations, rebuild TensorFlow with the appropriate compiler flags.\n",
      "2025-10-26 17:03:46.058371: W tensorflow/compiler/tf2tensorrt/utils/py_utils.cc:38] TF-TRT Warning: Could not find TensorRT\n"
     ]
    }
   ],
   "source": [
    "from tensorflow.keras.preprocessing.image import ImageDataGenerator, load_img, img_to_array\n",
    "from tensorflow.keras.applications import MobileNetV2\n",
    "from tensorflow.keras.applications.mobilenet_v2 import preprocess_input\n",
    "from tensorflow.keras.models import Model\n",
    "from sklearn.preprocessing import LabelEncoder\n",
    "from sklearn.model_selection import train_test_split, GridSearchCV\n",
    "from sklearn.svm import SVC\n",
    "from sklearn.ensemble import RandomForestClassifier\n",
    "from sklearn.linear_model import LogisticRegression\n",
    "from sklearn.metrics import accuracy_score, classification_report\n",
    "import numpy as np\n",
    "import os\n",
    "from PIL import Image"
   ]
  },
  {
   "cell_type": "code",
   "execution_count": 2,
   "id": "354d0e06",
   "metadata": {},
   "outputs": [],
   "source": [
    "data_dir = r\"/home/faisal/code/MrZeroX1/Aivine/raw_data/Plant_type_classification/Plant_type_classification\"\n"
   ]
  },
  {
   "cell_type": "code",
   "execution_count": 3,
   "id": "3bb41f5f",
   "metadata": {},
   "outputs": [],
   "source": [
    "img_size = (128, 128)"
   ]
  },
  {
   "cell_type": "code",
   "execution_count": 4,
   "id": "b1bb9bd7",
   "metadata": {},
   "outputs": [],
   "source": [
    "# --- Image Augmentation ---\n",
    "datagen = ImageDataGenerator(\n",
    "    rotation_range=30,\n",
    "    width_shift_range=0.1,\n",
    "    height_shift_range=0.1,\n",
    "    zoom_range=0.1,\n",
    "    horizontal_flip=True,\n",
    "    vertical_flip=True,\n",
    "    brightness_range=[0.8, 1.2]\n",
    ")"
   ]
  },
  {
   "cell_type": "code",
   "execution_count": null,
   "id": "8a6e483e",
   "metadata": {},
   "outputs": [
    {
     "name": "stderr",
     "output_type": "stream",
     "text": [
      "/home/faisal/.pyenv/versions/3.10.14/envs/aivine_env/lib/python3.10/site-packages/PIL/Image.py:1056: UserWarning: Palette images with Transparency expressed in bytes should be converted to RGBA images\n",
      "  warnings.warn(\n"
     ]
    },
    {
     "name": "stdout",
     "output_type": "stream",
     "text": [
      "✅ Total images after augmentation: 2370\n"
     ]
    }
   ],
   "source": [
    "# --- Load Images + Augmentation ---\n",
    "X_aug, y_aug = [], []\n",
    "\n",
    "for folder in os.listdir(data_dir):\n",
    "    folder_path = os.path.join(data_dir, folder)\n",
    "    if not os.path.isdir(folder_path):\n",
    "        continue\n",
    "    for file in os.listdir(folder_path):\n",
    "        if file.lower().endswith(('.jpg','.jpeg','.png','.webp')):\n",
    "            img_path = os.path.join(folder_path, file)\n",
    "            try:\n",
    "                try:\n",
    "                    img = load_img(img_path, target_size=img_size)\n",
    "                except:\n",
    "                    img = Image.open(img_path).convert(\"RGB\")\n",
    "                    img = img.resize(img_size)\n",
    "                x = img_to_array(img)\n",
    "                x = preprocess_input(x)  # MobileNetV2 preprocessing\n",
    "                x = x.reshape((1, *x.shape))\n",
    "\n",
    "                # Original image\n",
    "                X_aug.append(x.flatten())\n",
    "                y_aug.append(folder)\n",
    "\n",
    "                # Generate 5 augmented images per original\n",
    "                for i, batch in enumerate(datagen.flow(x, batch_size=1)):\n",
    "                    X_aug.append(batch.flatten())\n",
    "                    y_aug.append(folder)\n",
    "                    if i >= 4:  # 5 augmentations\n",
    "                        break\n",
    "            except Exception as e:\n",
    "                print(f\"Error loading {img_path}: {e}\")\n",
    "\n",
    "X_aug = np.array(X_aug, dtype='float32')\n",
    "y_aug = np.array(y_aug)\n",
    "\n",
    "print(f\"✅ Total images after augmentation: {len(X_aug)}\")\n"
   ]
  },
  {
   "cell_type": "code",
   "execution_count": null,
   "id": "d5b13eee",
   "metadata": {},
   "outputs": [
    {
     "name": "stdout",
     "output_type": "stream",
     "text": [
      "Downloading data from https://storage.googleapis.com/tensorflow/keras-applications/mobilenet_v2/mobilenet_v2_weights_tf_dim_ordering_tf_kernels_1.0_128_no_top.h5\n",
      "9406464/9406464 [==============================] - 12s 1us/step\n",
      "\n",
      "Training SVM...\n",
      "Best Params: {'C': 10, 'gamma': 0.001, 'kernel': 'rbf'}\n",
      "SVM Accuracy: 97.89%\n",
      "               precision    recall  f1-score   support\n",
      "\n",
      "Chrysanthemum       0.98      0.99      0.98        82\n",
      "     Hibiscus       0.98      0.97      0.97        89\n",
      "  Money_Plant       0.98      0.99      0.98        95\n",
      "         Rose       0.98      0.96      0.97       116\n",
      "     Turmeric       0.98      1.00      0.99        92\n",
      "\n",
      "     accuracy                           0.98       474\n",
      "    macro avg       0.98      0.98      0.98       474\n",
      " weighted avg       0.98      0.98      0.98       474\n",
      "\n",
      "\n",
      "Training RandomForest...\n",
      "Best Params: {'max_depth': None, 'n_estimators': 200}\n",
      "RandomForest Accuracy: 88.19%\n",
      "               precision    recall  f1-score   support\n",
      "\n",
      "Chrysanthemum       0.91      0.87      0.89        82\n",
      "     Hibiscus       0.94      0.74      0.83        89\n",
      "  Money_Plant       0.92      0.91      0.91        95\n",
      "         Rose       0.78      0.90      0.83       116\n",
      "     Turmeric       0.92      0.99      0.95        92\n",
      "\n",
      "     accuracy                           0.88       474\n",
      "    macro avg       0.89      0.88      0.88       474\n",
      " weighted avg       0.89      0.88      0.88       474\n",
      "\n",
      "\n",
      "Training LogisticRegression...\n",
      "Best Params: {'C': 1}\n",
      "LogisticRegression Accuracy: 93.88%\n",
      "               precision    recall  f1-score   support\n",
      "\n",
      "Chrysanthemum       0.94      0.93      0.93        82\n",
      "     Hibiscus       0.90      0.92      0.91        89\n",
      "  Money_Plant       0.98      0.93      0.95        95\n",
      "         Rose       0.92      0.92      0.92       116\n",
      "     Turmeric       0.96      1.00      0.98        92\n",
      "\n",
      "     accuracy                           0.94       474\n",
      "    macro avg       0.94      0.94      0.94       474\n",
      " weighted avg       0.94      0.94      0.94       474\n",
      "\n"
     ]
    }
   ],
   "source": [
    "# --- Encode Labels ---\n",
    "le = LabelEncoder()\n",
    "y_encoded = le.fit_transform(y_aug)\n",
    "\n",
    "# --- Split Dataset ---\n",
    "from sklearn.model_selection import train_test_split\n",
    "X_train, X_val, y_train, y_val = train_test_split(\n",
    "    X_aug, y_encoded, test_size=0.2, random_state=42, stratify=y_encoded\n",
    ")\n",
    "\n",
    "# --- MobileNetV2 Feature Extractor ---\n",
    "base_model = MobileNetV2(weights='imagenet', include_top=False, input_shape=(128,128,3), pooling='avg')\n",
    "def extract_features(X):\n",
    "    X_reshaped = X.reshape((-1, *img_size, 3))\n",
    "    return base_model.predict(X_reshaped, verbose=0)\n",
    "\n",
    "X_train_features = extract_features(X_train)\n",
    "X_val_features = extract_features(X_val)\n",
    "\n",
    "\n",
    "# --- Models and Hyperparameters ---\n",
    "models_params = {\n",
    "    \"SVM\": (\n",
    "        SVC(),\n",
    "        {'C':[1,5,10], 'gamma':[0.001,0.01,'scale'], 'kernel':['rbf']}\n",
    "    ),\n",
    "    \"RandomForest\": (\n",
    "        RandomForestClassifier(random_state=42),\n",
    "        {'n_estimators':[100,200], 'max_depth':[10,15,None]}\n",
    "    ),\n",
    "    \"LogisticRegression\": (\n",
    "        LogisticRegression(max_iter=2000),\n",
    "        {'C':[0.1,1,10]}\n",
    "    )\n",
    "}\n",
    "\n",
    "# --- Train & GridSearch ---\n",
    "best_results = []\n",
    "for name, (model, params) in models_params.items():\n",
    "    print(f\"\\nTraining {name}...\")\n",
    "    grid = GridSearchCV(model, params, cv=3, scoring='accuracy', n_jobs=-1)\n",
    "    grid.fit(X_train_features, y_train)\n",
    "    best_model = grid.best_estimator_\n",
    "    print(f\"Best Params: {grid.best_params_}\")\n",
    "\n",
    "    y_pred = best_model.predict(X_val_features)\n",
    "    acc = accuracy_score(y_val, y_pred)\n",
    "    print(f\"{name} Accuracy: {acc*100:.2f}%\")\n",
    "    print(classification_report(y_val, y_pred, target_names=le.classes_))\n",
    "\n",
    "    best_results.append((name, acc, best_model))"
   ]
  },
  {
   "cell_type": "code",
   "execution_count": 7,
   "id": "4e7bf03a",
   "metadata": {},
   "outputs": [
    {
     "name": "stdout",
     "output_type": "stream",
     "text": [
      "\n",
      "Best Model: SVM | Accuracy: 97.89%\n"
     ]
    }
   ],
   "source": [
    "# --- Summary ---\n",
    "best_overall = max(best_results, key=lambda x: x[1])\n",
    "print(f\"\\nBest Model: {best_overall[0]} | Accuracy: {best_overall[1]*100:.2f}%\")"
   ]
  },
  {
   "cell_type": "code",
   "execution_count": 12,
   "id": "11b35819",
   "metadata": {},
   "outputs": [
    {
     "data": {
      "image/png": "[encoded data removed]",
      "text/plain": [
       "<Figure size 600x400 with 1 Axes>"
      ]
     },
     "metadata": {},
     "output_type": "display_data"
    }
   ],
   "source": [
    "import matplotlib.pyplot as plt\n",
    "from sklearn.metrics import accuracy_score\n",
    "\n",
    "model = best_overall[2]\n",
    "\n",
    "y_train_pred = model.predict(X_train_features)\n",
    "train_accuracy = accuracy_score(y_train, y_train_pred)\n",
    "\n",
    "val_accuracy = best_overall[1]\n",
    "\n",
    "plt.figure(figsize=(6,4))\n",
    "plt.bar(['Train', 'Validation'], [train_accuracy, val_accuracy], color=['skyblue', 'orange'])\n",
    "plt.ylim(0, 1)\n",
    "plt.ylabel('Accuracy')\n",
    "plt.title('Train vs Validation Accuracy (SVM)')\n",
    "plt.grid(axis='y')\n",
    "plt.show()\n"
   ]
  },
  {
   "cell_type": "code",
   "execution_count": null,
   "id": "a2488ae9",
   "metadata": {},
   "outputs": [
    {
     "name": "stdout",
     "output_type": "stream",
     "text": [
      "Model saved as best_model_svm.pkl\n"
     ]
    }
   ],
   "source": [
    "import joblib\n",
    "\n",
    "joblib.dump(best_overall[2], \"best_model_svm.pkl\")\n",
    "print(\"Model saved as best_model_svm.pkl\")\n"
   ]
  },
  {
   "cell_type": "code",
   "execution_count": 18,
   "id": "524899dd",
   "metadata": {},
   "outputs": [
    {
     "name": "stdout",
     "output_type": "stream",
     "text": [
      "LabelEncoder saved as label_encoder.pkl\n"
     ]
    }
   ],
   "source": [
    "joblib.dump(le, \"label_encoder.pkl\")\n",
    "print(\"LabelEncoder saved as label_encoder.pkl\")"
   ]
  },
  {
   "cell_type": "code",
   "execution_count": null,
   "id": "3e3328bd",
   "metadata": {},
   "outputs": [],
   "source": [
    "# loaded_model = joblib.load(\"best_model_svm.pkl\")\n",
    "# predictions = loaded_model.predict(X_new_features)"
   ]
  },
  {
   "cell_type": "code",
   "execution_count": 31,
   "id": "1b0063da",
   "metadata": {},
   "outputs": [
    {
     "name": "stdout",
     "output_type": "stream",
     "text": [
      "Predicted class: Rose\n"
     ]
    }
   ],
   "source": [
    "best_model = joblib.load(\"best_model_svm.pkl\")\n",
    "le = joblib.load(\"label_encoder.pkl\")\n",
    "\n",
    "base_model = MobileNetV2(weights='imagenet', include_top=False, input_shape=(128,128,3), pooling='avg')\n",
    "\n",
    "def predict_plant(img_path):\n",
    "    img = load_img(img_path, target_size=(128,128))\n",
    "    x = img_to_array(img)\n",
    "    x = preprocess_input(x)\n",
    "    x = x.reshape((1, 128, 128, 3))\n",
    "    features = base_model.predict(x, verbose=0)\n",
    "    pred_idx = best_model.predict(features)[0]\n",
    "    pred_class = le.inverse_transform([pred_idx])[0]\n",
    "    return pred_class\n",
    "\n",
    "print(\"Predicted class:\", predict_plant(\"test_image/test2.jpg\"))\n"
   ]
  },
  {
   "cell_type": "code",
   "execution_count": null,
   "id": "2684b2de",
   "metadata": {},
   "outputs": [],
   "source": [
    "\"\"\"\n",
    "\n",
    "from PIL import Image\n",
    "import numpy as np\n",
    "from tensorflow.keras.preprocessing.image import img_to_array\n",
    "from tensorflow.keras.applications.mobilenet_v2 import preprocess_input, MobileNetV2\n",
    "import joblib\n",
    "\n",
    "best_model = joblib.load(\"best_model_svm.pkl\")\n",
    "le = joblib.load(\"label_encoder.pkl\")\n",
    "base_model = MobileNetV2(weights='imagenet', include_top=False, input_shape=(128,128,3), pooling='avg')\n",
    "\n",
    "def predict_plant_from_bytes(img_bytes):\n",
    "\n",
    "    img = Image.open(img_bytes).convert(\"RGB\").resize((128,128))\n",
    "\n",
    "    x = img_to_array(img)\n",
    "    x = preprocess_input(x)\n",
    "    x = x.reshape((1, *x.shape))\n",
    "\n",
    "    features = base_model.predict(x, verbose=0)\n",
    "\n",
    "    pred_idx = best_model.predict(features)[0]\n",
    "    pred_class = le.inverse_transform([pred_idx])[0]\n",
    "    return pred_class\n",
    "\n",
    "\n",
    "\n",
    "\"\"\""
   ]
  }
 ],
 "metadata": {
  "kernelspec": {
   "display_name": "aivine_env",
   "language": "python",
   "name": "python3"
  },
  "language_info": {
   "codemirror_mode": {
    "name": "ipython",
    "version": 3
   },
   "file_extension": ".py",
   "mimetype": "text/x-python",
   "name": "python",
   "nbconvert_exporter": "python",
   "pygments_lexer": "ipython3",
   "version": "3.10.14"
  }
 },
 "nbformat": 4,
 "nbformat_minor": 5
}
